{
 "cells": [
  {
   "cell_type": "code",
   "execution_count": 1,
   "id": "c79e812f",
   "metadata": {},
   "outputs": [],
   "source": [
    "import sys\n",
    "import os\n",
    "import random\n",
    "\n",
    "sys.path.insert(0, os.path.expanduser(\"~/git/pyzx\"))  # git version\n",
    "import quizx\n",
    "import pyzx"
   ]
  },
  {
   "cell_type": "code",
   "execution_count": 8,
   "id": "32feb0bf",
   "metadata": {},
   "outputs": [],
   "source": [
    "random.seed(42)\n",
    "num_v = 40\n",
    "num_e = 400\n",
    "\n",
    "g = quizx.Graph()\n",
    "for _ in range(num_v):\n",
    "    g.add_vertex(pyzx.VertexType.Z)\n",
    "i = 0\n",
    "while i < num_e:\n",
    "    v1 = random.randrange(num_v)\n",
    "    v2 = random.randrange(num_v)\n",
    "    if v1 != v2 and not g.connected(v1, v2):\n",
    "        g.add_edge((v1, v2), edgetype=pyzx.EdgeType.HADAMARD)\n",
    "        i += 1"
   ]
  },
  {
   "cell_type": "code",
   "execution_count": 9,
   "id": "ca02c0c0",
   "metadata": {},
   "outputs": [
    {
     "name": "stdout",
     "output_type": "stream",
     "text": [
      "[39, [[[[[9, 0], [[[30, 35], 38], 6]], [5, [36, [18, [2, 32]]]]], [[[26, [4, 3]], [19, 12]], [[14, [24, 27]], 29]]], [[[[11, 20], [31, [16, 1]]], [[37, [34, 13]], [7, [17, 33]]]], [[[[28, [22, 15]], 23], 8], [10, [21, 25]]]]]]\n",
      "19\n",
      "[39, [[[[[9, 0], [38, 6]], [5, [18, [36, [2, 32]]]]], [[[[26, [4, [3, 17]]], [19, 12]], [[[[28, [22, 24]], 23], [[30, [34, 13]], 35]], 8]], [[[15, 14], 27], 29]]], [[[[11, 20], [31, [16, 1]]], [7, 33]], [10, [[21, 37], 25]]]]]\n",
      "12\n"
     ]
    }
   ],
   "source": [
    "ann = quizx.RankwidthAnnealer(g, seed=42)\n",
    "\n",
    "print(ann.init_decomp().to_list())\n",
    "print(ann.init_decomp().rankwidth(g))\n",
    "\n",
    "decomp = ann.run()\n",
    "\n",
    "print(decomp.to_list())\n",
    "print(decomp.rankwidth(g))"
   ]
  },
  {
   "cell_type": "code",
   "execution_count": 11,
   "id": "fb5390b5",
   "metadata": {},
   "outputs": [
    {
     "name": "stdout",
     "output_type": "stream",
     "text": [
      "[2, [[[[[9, 0], [[30, 38], 6]], [5, 36]], [14, 12]], [[[[[37, [[11, [15, 32]], 18]], [[31, [16, 1]], 35]], [[34, 13], [17, [7, 33]]]], [[[28, 23], 8], [[[10, 20], [21, 25]], [[[24, 22], 3], [39, 27]]]]], [[26, 4], [19, 29]]]]]\n",
      "14\n"
     ]
    }
   ],
   "source": [
    "init = quizx.DecompTree.from_list(\n",
    "    [\n",
    "        2,\n",
    "        [\n",
    "            [\n",
    "                [[[9, 0], [[[30, 35], 38], 6]], [5, [36, [18, [39, 32]]]]],\n",
    "                [[[26, [4, 3]], [19, 12]], [[14, [22, 27]], 29]],\n",
    "            ],\n",
    "            [\n",
    "                [[[11, 20], [31, [16, 1]]], [[37, [34, 13]], [7, [17, 33]]]],\n",
    "                [[[[28, [24, 15]], 23], 8], [10, [21, 25]]],\n",
    "            ],\n",
    "        ],\n",
    "    ]\n",
    ")\n",
    "ann = quizx.RankwidthAnnealer(\n",
    "    g,\n",
    "    seed=42,\n",
    "    init_decomp=init,\n",
    "    init_temp=10.0,\n",
    "    min_temp=0.001,\n",
    "    cooling_rate=0.999,\n",
    "    adaptive_cooling=True,\n",
    "    iterations=10000,\n",
    ")\n",
    "\n",
    "decomp = ann.run()\n",
    "\n",
    "print(decomp.to_list())\n",
    "print(decomp.rankwidth(g))"
   ]
  },
  {
   "cell_type": "code",
   "execution_count": null,
   "id": "752ddf5b",
   "metadata": {},
   "outputs": [],
   "source": []
  }
 ],
 "metadata": {
  "kernelspec": {
   "display_name": "quizx",
   "language": "python",
   "name": "python3"
  },
  "language_info": {
   "codemirror_mode": {
    "name": "ipython",
    "version": 3
   },
   "file_extension": ".py",
   "mimetype": "text/x-python",
   "name": "python",
   "nbconvert_exporter": "python",
   "pygments_lexer": "ipython3",
   "version": "3.12.10"
  }
 },
 "nbformat": 4,
 "nbformat_minor": 5
}
