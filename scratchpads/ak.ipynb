{
 "cells": [
  {
   "cell_type": "code",
   "execution_count": 1,
   "id": "c79e812f",
   "metadata": {},
   "outputs": [],
   "source": [
    "import quizx\n",
    "import pyzx"
   ]
  },
  {
   "cell_type": "code",
   "execution_count": null,
   "id": "b480ac91",
   "metadata": {},
   "outputs": [
    {
     "ename": "ValueError",
     "evalue": "linearization error, ",
     "output_type": "error",
     "traceback": [
      "\u001b[1;31m---------------------------------------------------------------------------\u001b[0m",
      "\u001b[1;31mValueError\u001b[0m                                Traceback (most recent call last)",
      "Cell \u001b[1;32mIn[2], line 1\u001b[0m\n\u001b[1;32m----> 1\u001b[0m g \u001b[38;5;241m=\u001b[39m \u001b[43mquizx\u001b[49m\u001b[38;5;241;43m.\u001b[39;49m\u001b[43mqasm\u001b[49m\u001b[43m(\u001b[49m\u001b[38;5;124;43m\"\"\"\u001b[39;49m\n\u001b[0;32m      2\u001b[0m \u001b[38;5;124;43mqreg q[4];\u001b[39;49m\n\u001b[0;32m      3\u001b[0m \u001b[38;5;124;43mcreg b[1];\u001b[39;49m\n\u001b[0;32m      4\u001b[0m \u001b[38;5;124;43mcx q[0], q[1];\u001b[39;49m\n\u001b[0;32m      5\u001b[0m \u001b[38;5;124;43mmeasure q[1] -> b[0];\u001b[39;49m\n\u001b[0;32m      6\u001b[0m \u001b[38;5;124;43m\"\"\"\u001b[39;49m\u001b[43m)\u001b[49m\n\u001b[0;32m      8\u001b[0m pyzx\u001b[38;5;241m.\u001b[39mdraw(g)\n",
      "\u001b[1;31mValueError\u001b[0m: linearization error, "
     ]
    }
   ],
   "source": [
    "g = quizx.qasm(\"\"\"\n",
    "qreg q[4];\n",
    "cx q[0], q[1];\n",
    "measure q[1] -> b[1];\n",
    "\"\"\")\n",
    "\n",
    "pyzx.draw(g)"
   ]
  },
  {
   "cell_type": "code",
   "execution_count": null,
   "id": "991be078",
   "metadata": {},
   "outputs": [],
   "source": []
  }
 ],
 "metadata": {
  "kernelspec": {
   "display_name": ".venv",
   "language": "python",
   "name": "python3"
  },
  "language_info": {
   "codemirror_mode": {
    "name": "ipython",
    "version": 3
   },
   "file_extension": ".py",
   "mimetype": "text/x-python",
   "name": "python",
   "nbconvert_exporter": "python",
   "pygments_lexer": "ipython3",
   "version": "3.9.21"
  }
 },
 "nbformat": 4,
 "nbformat_minor": 5
}
